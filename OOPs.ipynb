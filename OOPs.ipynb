{
  "nbformat": 4,
  "nbformat_minor": 0,
  "metadata": {
    "colab": {
      "name": "OOPs.ipynb",
      "provenance": [],
      "authorship_tag": "ABX9TyOw3KAQ2tAlptbIzy88XOda",
      "include_colab_link": true
    },
    "kernelspec": {
      "name": "python3",
      "display_name": "Python 3"
    },
    "language_info": {
      "name": "python"
    }
  },
  "cells": [
    {
      "cell_type": "markdown",
      "metadata": {
        "id": "view-in-github",
        "colab_type": "text"
      },
      "source": [
        "<a href=\"https://colab.research.google.com/github/surajslab/ObjectOrientedProgramming/blob/main/OOPs.ipynb\" target=\"_parent\"><img src=\"https://colab.research.google.com/assets/colab-badge.svg\" alt=\"Open In Colab\"/></a>"
      ]
    },
    {
      "cell_type": "markdown",
      "source": [
        "# Object Oriented Programming"
      ],
      "metadata": {
        "id": "tkoN0JgWk6FM"
      }
    },
    {
      "cell_type": "markdown",
      "source": [
        "## Basics"
      ],
      "metadata": {
        "id": "oYjm0R7--1MZ"
      }
    },
    {
      "cell_type": "markdown",
      "source": [
        "* Creation of a class Item\n",
        "* Creating two instances of the class ie, item1 and item2\n",
        "* When the calculate_price() is called it shows the results of each individual items\n",
        "* That is possible because of the use of self keyword\n",
        "* The init function by default takes name of the object or instance as its first arguement and that is self\n",
        "* Thus the self keyword allows us to use the attributes(variables) in the init function anywhere in the class\n"
      ],
      "metadata": {
        "id": "b1r1R-hy9aeZ"
      }
    },
    {
      "cell_type": "code",
      "source": [
        "class Item:\n",
        "\n",
        "  def __init__(self,name: str,price: int, quantity=0):\n",
        "\n",
        "    self.name=name\n",
        "    self.price=price\n",
        "    self.quantity=quantity\n",
        "\n",
        "  def calculate_price(self):\n",
        "    return self.price*self.quantity\n",
        "  \n",
        "\n",
        "\n",
        "\n",
        "\n",
        "item1=Item(\"Phone\",100,3)\n",
        "print(item1.calculate_price())\n",
        "\n",
        "item2=Item(\"Laptop\",1000,2)\n",
        "print(item2.calculate_price())\n",
        "\n"
      ],
      "metadata": {
        "colab": {
          "base_uri": "https://localhost:8080/"
        },
        "id": "jJxvnBtz7k6F",
        "outputId": "fbc0221e-ff95-4087-e405-6c8450b0de3a"
      },
      "execution_count": null,
      "outputs": [
        {
          "output_type": "stream",
          "name": "stdout",
          "text": [
            "300\n",
            "2000\n",
            "hi\n"
          ]
        }
      ]
    },
    {
      "cell_type": "markdown",
      "source": [
        "## Class Attribute"
      ],
      "metadata": {
        "id": "LVqD84TI_AJ1"
      }
    },
    {
      "cell_type": "markdown",
      "source": [
        "When we have a class attribute it is independent of objects and can be directly accessed with the class name."
      ],
      "metadata": {
        "id": "mzR4dMRl_fhU"
      }
    },
    {
      "cell_type": "code",
      "source": [
        "class Item:\n",
        "\n",
        "  payrate=0.8 # class attribute\n",
        "\n",
        "  def __init__(self,name: str,price: int, quantity=0):\n",
        "\n",
        "    self.name=name\n",
        "    self.price=price\n",
        "    self.quantity=quantity\n",
        "\n",
        "  def calculate_price(self):\n",
        "    return self.price*self.quantity\n",
        "\n",
        "print(Item.payrate) # only class name is used to access the class attribute\n",
        "\n"
      ],
      "metadata": {
        "colab": {
          "base_uri": "https://localhost:8080/"
        },
        "id": "7U_Ksv7E8GV1",
        "outputId": "a49681ae-a541-4c83-bebf-2054f67e5df7"
      },
      "execution_count": null,
      "outputs": [
        {
          "output_type": "stream",
          "name": "stdout",
          "text": [
            "0.8\n"
          ]
        }
      ]
    },
    {
      "cell_type": "markdown",
      "source": [
        "**Yet the class attribute can also be accessed using the objects**"
      ],
      "metadata": {
        "id": "QC4fl0Tf_2Ud"
      }
    },
    {
      "cell_type": "code",
      "source": [
        "class Item:\n",
        "\n",
        "  payrate=0.8\n",
        "\n",
        "  def __init__(self,name: str,price: int, quantity=0):\n",
        "\n",
        "    self.name=name\n",
        "    self.price=price\n",
        "    self.quantity=quantity\n",
        "\n",
        "  def calculate_price(self):\n",
        "    return self.price*self.quantity\n",
        "\n",
        "item1=Item(\"Phone\",100,3)\n",
        "print(item1.payrate)\n"
      ],
      "metadata": {
        "colab": {
          "base_uri": "https://localhost:8080/"
        },
        "id": "A-HC0RLf_xnk",
        "outputId": "7b6d358b-92d7-4075-8403-b1b16d83316a"
      },
      "execution_count": null,
      "outputs": [
        {
          "output_type": "stream",
          "name": "stdout",
          "text": [
            "0.8\n"
          ]
        }
      ]
    },
    {
      "cell_type": "markdown",
      "source": [
        "To justify the above program lets find out all the attributes that are available for the class and the object"
      ],
      "metadata": {
        "id": "gF9JZJ7UBFpe"
      }
    },
    {
      "cell_type": "code",
      "source": [
        "class Item:\n",
        "\n",
        "  payrate=0.8\n",
        "\n",
        "  def __init__(self,name: str,price: int, quantity=0):\n",
        "\n",
        "    self.name=name\n",
        "    self.price=price\n",
        "    self.quantity=quantity\n",
        "\n",
        "  def calculate_price(self):\n",
        "    return self.price*self.quantity\n",
        "\n",
        "item1=Item(\"Phone\",100,3)\n",
        "\n",
        "print(\"Object Attributes :\", item1.__dict__)\n",
        "print()\n",
        "print(\"Class Attributes :\",Item.__dict__)"
      ],
      "metadata": {
        "colab": {
          "base_uri": "https://localhost:8080/"
        },
        "id": "i7vm82l8A4aI",
        "outputId": "31dcedf8-9c1c-451b-f02e-c657112eb458"
      },
      "execution_count": null,
      "outputs": [
        {
          "output_type": "stream",
          "name": "stdout",
          "text": [
            "Object Attributes : {'name': 'Phone', 'price': 100, 'quantity': 3}\n",
            "\n",
            "Class Attributes : {'__module__': '__main__', 'payrate': 0.8, '__init__': <function Item.__init__ at 0x7f1b6f598560>, 'calculate_price': <function Item.calculate_price at 0x7f1b6f59ce60>, '__dict__': <attribute '__dict__' of 'Item' objects>, '__weakref__': <attribute '__weakref__' of 'Item' objects>, '__doc__': None}\n"
          ]
        }
      ]
    },
    {
      "cell_type": "markdown",
      "source": [
        "As it is visible in the above output that the payrate variable is not available for the object yet it can be accessed by it."
      ],
      "metadata": {
        "id": "Uj94utuGBulr"
      }
    },
    {
      "cell_type": "code",
      "source": [
        ""
      ],
      "metadata": {
        "id": "YzJB6-qaBb29"
      },
      "execution_count": null,
      "outputs": []
    },
    {
      "cell_type": "code",
      "source": [
        ""
      ],
      "metadata": {
        "id": "bKdwCFZNDGXD"
      },
      "execution_count": null,
      "outputs": []
    },
    {
      "cell_type": "markdown",
      "source": [
        "###**Important feature of class attribute :**\n",
        "*  When there is a method that uses class attribute\n",
        "*  And when that method is called using a object\n",
        "<br>\n",
        "* Case 1:\n",
        "\n",
        "  * When we call the method with item1 \n",
        "and in that case the payrate value will be default as 0.8.\n",
        "\n",
        "\n",
        "* Case 2:\n",
        "\n",
        "   * But we can also explicitly define the value of the payrate as we are doing in item2 that is payrate=0.7. And we get answer accordingly. \n",
        "\n",
        "\n"
      ],
      "metadata": {
        "id": "rL5Sk3P3DvdL"
      }
    },
    {
      "cell_type": "code",
      "source": [
        "class Item:\n",
        "\n",
        "  payrate=0.8\n",
        "\n",
        "  def __init__(self,name: str,price: int, quantity=0):\n",
        "\n",
        "    self.name=name\n",
        "    self.price=price\n",
        "    self.quantity=quantity\n",
        "\n",
        "  def calculate_price(self):\n",
        "    return self.price*self.quantity\n",
        "\n",
        "  def calculate_discount(self):\n",
        "    return self.price*self.payrate # using self for class attribute\n",
        "\n",
        "\n",
        "item1=Item(\"Phone\",100,3)\n",
        "print(item1.calculate_discount())\n",
        "\n",
        "\n",
        "item2=Item(\"Phone\",100,3)\n",
        "item2.payrate=0.7   # explicitly defining the value\n",
        "print(item2.calculate_discount())\n"
      ],
      "metadata": {
        "colab": {
          "base_uri": "https://localhost:8080/"
        },
        "id": "0zLPjKSGDG-F",
        "outputId": "4ebab62b-cd61-43c6-852a-f1a752f31159"
      },
      "execution_count": null,
      "outputs": [
        {
          "output_type": "stream",
          "name": "stdout",
          "text": [
            "80.0\n",
            "70.0\n"
          ]
        }
      ]
    },
    {
      "cell_type": "code",
      "source": [
        ""
      ],
      "metadata": {
        "id": "TIc-gcadDhB_"
      },
      "execution_count": null,
      "outputs": []
    },
    {
      "cell_type": "markdown",
      "source": [
        "## Magic Methods"
      ],
      "metadata": {
        "id": "mRkxmCnBMZvJ"
      }
    },
    {
      "cell_type": "markdown",
      "source": [
        "Reference : https://www.youtube.com/watch?v=FIaPZXaePhw&t=0s"
      ],
      "metadata": {
        "id": "rp4SrV6AOfKQ"
      }
    },
    {
      "cell_type": "markdown",
      "source": [
        "### Dunder str method"
      ],
      "metadata": {
        "id": "xCltDcwfOkLd"
      }
    },
    {
      "cell_type": "markdown",
      "source": [
        "For simple understanding of the dunder str method it is just conversion of the object to string.\n",
        "\n",
        "Eg: print(str(1))\n",
        "\n",
        "In place of 1 we are converting a **object**.It is can only seen when the print statement is used. Just to make the object look prettier."
      ],
      "metadata": {
        "id": "RPj4HrLNPWAQ"
      }
    },
    {
      "cell_type": "code",
      "source": [
        "class Customizedinteger:\n",
        "\n",
        "  def __init__(self,integer):\n",
        "    self.integer=integer\n",
        "  \n",
        "  def __str__(self):\n",
        "    return f\"Object with value : {self.integer}\"\n",
        "\n",
        "int1 = Customizedinteger(1)\n",
        "int2 = Customizedinteger(2)\n",
        "\n",
        "print(int1)\n",
        "print(int2)\n",
        "  "
      ],
      "metadata": {
        "colab": {
          "base_uri": "https://localhost:8080/"
        },
        "id": "mDBgXRMEKzHy",
        "outputId": "c83d01e8-a694-42ed-fe41-7c74f14ac885"
      },
      "execution_count": null,
      "outputs": [
        {
          "output_type": "stream",
          "name": "stdout",
          "text": [
            "Object with value : 1\n",
            "Object with value : 2\n"
          ]
        }
      ]
    },
    {
      "cell_type": "markdown",
      "source": [
        "### Dunder repr method"
      ],
      "metadata": {
        "id": "b9ZoEl6nQOuo"
      }
    },
    {
      "cell_type": "markdown",
      "source": [
        "As the dunder str method is used to make the object look prettier the dunder repr method is used to represent the object in more formal way by the python documentation.That is the exact way it is declared"
      ],
      "metadata": {
        "id": "DgEq9dMhQsW9"
      }
    },
    {
      "cell_type": "code",
      "source": [
        "class Customizedinteger:\n",
        "\n",
        "  def __init__(self,integer):\n",
        "    self.integer=integer\n",
        "  \n",
        "  def __str__(self):\n",
        "    return f\"Object with value : {self.integer}\"\n",
        "  \n",
        "\n",
        "  def __repr__(self):\n",
        "    return f\"Customizedinteger({self.integer})\"\n",
        "\n",
        "int1 = Customizedinteger(1)\n",
        "int2 = Customizedinteger(2)\n",
        "\n",
        "int1, int2\n",
        "  "
      ],
      "metadata": {
        "colab": {
          "base_uri": "https://localhost:8080/"
        },
        "id": "ovlYOvLJO7D3",
        "outputId": "4be6e5a9-0c9b-462a-a30d-e3f41a28c0ef"
      },
      "execution_count": null,
      "outputs": [
        {
          "output_type": "stream",
          "name": "stdout",
          "text": [
            "Customizedinteger(1) Customizedinteger(2)\n"
          ]
        }
      ]
    },
    {
      "cell_type": "markdown",
      "source": [
        "### Using the repr method in action \n",
        "\n",
        "Using the all=[] class attribute to collect all the instances and displaying them."
      ],
      "metadata": {
        "id": "YkUizn16R8um"
      }
    },
    {
      "cell_type": "code",
      "source": [
        "class Item:\n",
        "\n",
        "  payrate=0.8\n",
        "  all=[] # class attribute\n",
        "\n",
        "  def __init__(self,name: str,price: int, quantity=0):\n",
        "\n",
        "    self.name=name\n",
        "    self.price=price\n",
        "    self.quantity=quantity\n",
        "\n",
        "    Item.all.append(self)\n",
        "\n",
        "  def calculate_price(self):\n",
        "    return self.price*self.quantity\n",
        "\n",
        "  def calculate_discount(self):\n",
        "    return self.price*self.payrate # using self for class attribute\n",
        "\n",
        "  def __repr__(self):\n",
        "    return f\"Item('{self.name}',{self.price},{self.quantity})\"\n",
        "\n",
        "\n",
        "item1=Item(\"Phone\",100,3)\n",
        "item2=Item(\"Laptop\",1001,2)\n",
        "item2=Item(\"Camera\",2000,1)\n",
        "item2=Item(\"Mouse\",200,5)\n",
        "item2=Item(\"Keyboard\",500,7)\n",
        "\n",
        "for instance in Item.all:\n",
        "  print(instance)\n"
      ],
      "metadata": {
        "colab": {
          "base_uri": "https://localhost:8080/"
        },
        "id": "M1apr2RkQng-",
        "outputId": "056f5d02-8a49-4b79-ddf0-3d6ea654529f"
      },
      "execution_count": null,
      "outputs": [
        {
          "output_type": "stream",
          "name": "stdout",
          "text": [
            "Item('Phone',100,3)\n",
            "Item('Laptop',1001,2)\n",
            "Item('Camera',2000,1)\n",
            "Item('Mouse',200,5)\n",
            "Item('Keyboard',500,7)\n"
          ]
        }
      ]
    },
    {
      "cell_type": "code",
      "source": [
        ""
      ],
      "metadata": {
        "id": "79ZWrJlbSaum"
      },
      "execution_count": null,
      "outputs": []
    },
    {
      "cell_type": "code",
      "source": [
        ""
      ],
      "metadata": {
        "id": "9db2ufmwVG6G"
      },
      "execution_count": null,
      "outputs": []
    },
    {
      "cell_type": "markdown",
      "source": [
        "## Class Methods"
      ],
      "metadata": {
        "id": "DlWBaP3Lw34k"
      }
    },
    {
      "cell_type": "markdown",
      "source": [
        "### Creating a csv file to represent a database"
      ],
      "metadata": {
        "id": "ivQ7EeTFwewm"
      }
    },
    {
      "cell_type": "code",
      "source": [
        "import pandas as pd\n",
        "\n",
        "dict1 = {\n",
        "    \n",
        "    \"name\":[\"Phone\",\"Laptop\",\"Mouse\"],\n",
        "    \"price\":[100,200,300],\n",
        "    \"quantity\":[1,3,2]\n",
        "}\n",
        "\n",
        "\n",
        "df=pd.DataFrame(dict1)\n",
        "df.to_csv(\"data.csv\",index=False)"
      ],
      "metadata": {
        "id": "0CUvcn0zwdDE"
      },
      "execution_count": null,
      "outputs": []
    },
    {
      "cell_type": "markdown",
      "source": [
        "### Class method"
      ],
      "metadata": {
        "id": "xmcXI1zgZcXY"
      }
    },
    {
      "cell_type": "markdown",
      "source": [
        "Class method just as class attribute is independent of object. It can be directly used by the class name.\n",
        "\n",
        "**Example 1** for class method"
      ],
      "metadata": {
        "id": "UJQMMAvAaB2E"
      }
    },
    {
      "cell_type": "code",
      "source": [
        "class Item:\n",
        "\n",
        "  payrate=0.8\n",
        "  all=[] # class attribute\n",
        "\n",
        "  def __init__(self,name: str,price: int, quantity=0):\n",
        "\n",
        "    self.name=name\n",
        "    self.price=price\n",
        "    self.quantity=quantity\n",
        "\n",
        "    Item.all.append(self)\n",
        "\n",
        "  @classmethod\n",
        "  def classm(cls):\n",
        "    print(\"Hey iam a class method\")\n",
        "\n",
        "\n",
        "  def calculate_price(self):\n",
        "    return self.price*self.quantity\n",
        "\n",
        "  def calculate_discount(self):\n",
        "    return self.price*self.payrate # using self for class attribute\n",
        "\n",
        "  def __repr__(self):\n",
        "    return f\"Item('{self.name}',{self.price},{self.quantity})\"\n",
        "\n",
        "\n",
        "Item.classm()\n",
        "\n",
        "\n"
      ],
      "metadata": {
        "colab": {
          "base_uri": "https://localhost:8080/"
        },
        "id": "UqL8TAaWZoWY",
        "outputId": "7a664d2c-97d4-41de-87eb-2330541089f2"
      },
      "execution_count": null,
      "outputs": [
        {
          "output_type": "stream",
          "name": "stdout",
          "text": [
            "Hey iam a class method\n"
          ]
        }
      ]
    },
    {
      "cell_type": "markdown",
      "source": [
        "Example 2 for class method"
      ],
      "metadata": {
        "id": "wp0betlu2CPt"
      }
    },
    {
      "cell_type": "code",
      "source": [
        "import csv\n",
        "class Item:\n",
        "\n",
        "  payrate=0.8\n",
        "  all=[] # class attribute\n",
        "\n",
        "  def __init__(self,name: str,price: int, quantity=0):\n",
        "\n",
        "    self.name=name\n",
        "    self.price=price\n",
        "    self.quantity=quantity\n",
        "\n",
        "    Item.all.append(self)\n",
        "\n",
        "  @classmethod\n",
        "  def instantiate_csv(cls):\n",
        "\n",
        "    with open ('data.csv','r') as f:\n",
        "\n",
        "      reader = csv.DictReader(f)\n",
        "      items=list(reader)\n",
        "      \n",
        "    for item in items:\n",
        "      Item(\n",
        "          \n",
        "          name = item['name'],\n",
        "          price=item['price'],\n",
        "          quantity=item['quantity']\n",
        ")\n",
        "\n",
        "    \n",
        "    \n",
        "\n",
        "\n",
        "  def calculate_price(self):\n",
        "    return self.price*self.quantity\n",
        "\n",
        "  def calculate_discount(self):\n",
        "    return self.price*self.payrate # using self for class attribute\n",
        "\n",
        "  def __repr__(self):\n",
        "    return f\"Item('{self.name}',{self.price},{self.quantity})\"\n",
        "\n",
        "\n",
        "Item.instantiate_csv()\n",
        "Item.all\n",
        "\n"
      ],
      "metadata": {
        "id": "jTRCyyGNZ411",
        "colab": {
          "base_uri": "https://localhost:8080/"
        },
        "outputId": "ddce5df8-89a5-4b2d-99bc-7a6d7bcb13d1"
      },
      "execution_count": null,
      "outputs": [
        {
          "output_type": "execute_result",
          "data": {
            "text/plain": [
              "[Item('Phone',100,1), Item('Laptop',200,3), Item('Mouse',300,2)]"
            ]
          },
          "metadata": {},
          "execution_count": 26
        }
      ]
    },
    {
      "cell_type": "code",
      "source": [
        ""
      ],
      "metadata": {
        "id": "oR4YdMKb3Ttq"
      },
      "execution_count": null,
      "outputs": []
    },
    {
      "cell_type": "markdown",
      "source": [
        "## Static Method"
      ],
      "metadata": {
        "id": "Ps4t8-dPXlSt"
      }
    },
    {
      "cell_type": "markdown",
      "source": [
        "Static methods are idependent of instance and the class itself. And the static methods do not take any arguement which justifies the above statement."
      ],
      "metadata": {
        "id": "uCyQnjs2qq_p"
      }
    },
    {
      "cell_type": "code",
      "source": [
        "# When to use class methods and when to use static methods ?\n",
        "\n",
        "class Item:\n",
        "    @staticmethod\n",
        "    def is_integer():\n",
        "        '''\n",
        "        This should do something that has a relationship\n",
        "        with the class, but not something that must be unique\n",
        "        per instance!\n",
        "        '''\n",
        "    @classmethod\n",
        "    def instantiate_from_something(cls):\n",
        "        '''\n",
        "        This should also do something that has a relationship\n",
        "        with the class, but usually, those are used to\n",
        "        manipulate different structures of data to instantiate\n",
        "        objects, like we have done with CSV.\n",
        "        '''\n",
        "\n",
        "# THE ONLY DIFFERENCE BETWEEN THOSE:\n",
        "# Static methods are not passing the object reference as the first argument in the background!\n",
        "\n",
        "\n",
        "# NOTE: However, those could be also called from instances.\n",
        "\n",
        "item1 = Item()\n",
        "item1.is_integer()\n",
        "item1.instantiate_from_something()"
      ],
      "metadata": {
        "id": "v2uBLB-h30GJ"
      },
      "execution_count": null,
      "outputs": []
    },
    {
      "cell_type": "code",
      "source": [
        ""
      ],
      "metadata": {
        "id": "Ko_Mfuq5YFZH"
      },
      "execution_count": null,
      "outputs": []
    },
    {
      "cell_type": "markdown",
      "source": [
        "# Principles of Object Oriented Programming"
      ],
      "metadata": {
        "id": "CgSBgJtCLd2y"
      }
    },
    {
      "cell_type": "markdown",
      "source": [
        "## Inheritance"
      ],
      "metadata": {
        "id": "TP70mVaCcZmc"
      }
    },
    {
      "cell_type": "markdown",
      "source": [
        "### Example 1"
      ],
      "metadata": {
        "id": "vvEoXL-IrhTi"
      }
    },
    {
      "cell_type": "code",
      "source": [
        "class Item:\n",
        "\n",
        "  payrate=0.8\n",
        "  all=[] # class attribute\n",
        "\n",
        "  def __init__(self,name: str,price: int, quantity=0):\n",
        "\n",
        "    self.name=name\n",
        "    self.price=price\n",
        "    self.quantity=quantity\n",
        "\n",
        "    Item.all.append(self)\n",
        "\n",
        "  def calculate_price(self):\n",
        "    return self.price*self.quantity\n",
        "\n",
        "  def calculate_discount(self):\n",
        "    return self.price*self.payrate # using self for class attribute\n",
        "\n",
        "  def __repr__(self):\n",
        "    return f\"{self.__class__.__name__}('{self.name}',{self.price},{self.quantity})\"\n",
        "     # Using magic method __class__.__name__ to get the name of the class which got initialised\n",
        "\n",
        "\n",
        "\n",
        "class Phone(Item):\n",
        "\n",
        "  all=[]\n",
        "\n",
        "\n",
        "  def __init__(self,name:str, price:int, quantity:int,broken_phone=0):\n",
        "\n",
        "    super().__init__(\n",
        "        name,price,quantity\n",
        "    )\n",
        "\n",
        "    Phone.all.append(self)\n",
        "\n",
        "    self.broken_phone=broken_phone\n",
        "\n",
        "  \n",
        "item1=Item(\"Phone\",100,3)\n",
        "phone1=Phone(\"nokia\",1200,3,1)\n",
        "item1.all, phone1.all\n"
      ],
      "metadata": {
        "colab": {
          "base_uri": "https://localhost:8080/"
        },
        "id": "_ZlYJq3XcbFU",
        "outputId": "bc5a12cf-0614-470a-fcd9-89f71d29d55c"
      },
      "execution_count": null,
      "outputs": [
        {
          "output_type": "execute_result",
          "data": {
            "text/plain": [
              "([Item('Phone',100,3), Phone('nokia',1200,3)], [Phone('nokia',1200,3)])"
            ]
          },
          "metadata": {},
          "execution_count": 45
        }
      ]
    },
    {
      "cell_type": "markdown",
      "source": [
        "###Example 2 Multilevel Inheritance"
      ],
      "metadata": {
        "id": "QRL7QdMurtRA"
      }
    },
    {
      "cell_type": "code",
      "source": [
        "class A:\n",
        "\n",
        "  def feature1(self):\n",
        "    print(f\"Showing Feature 1, from class : {self.__class__.__name__}\")\n",
        "\n",
        "  def feature2(self):\n",
        "    print(f\"Showing Feature 2 , from class : {self.__class__.__name__}\")\n",
        "  \n",
        "\n",
        "class B(A):\n",
        "\n",
        "  def feature3(self):\n",
        "    print(f\"Showing Feature 3, from class : {self.__class__.__name__}\")\n",
        "\n",
        "  def feature4(self):\n",
        "    print(f\"Showing Feature 4, from class : {self.__class__.__name__}\")\n",
        "\n",
        "\n",
        "class C(B):\n",
        "\n",
        "  def feature5(self):\n",
        "    print(f\"Showing Feature 5, from class : {self.__class__.__name__}\")\n",
        "\n",
        "  def feature6(self):\n",
        "    print(f\"Showing Feature 6, from class : {self.__class__.__name__}\")\n",
        "\n",
        "obj2 = B()\n",
        "obj2.feature1()\n",
        "\n",
        "obj3 = C()\n",
        "obj3.feature2()\n",
        "\n",
        "  "
      ],
      "metadata": {
        "id": "fMXGxHiIdPob",
        "colab": {
          "base_uri": "https://localhost:8080/"
        },
        "outputId": "644ffa50-1772-4e44-af84-287d88c53342"
      },
      "execution_count": null,
      "outputs": [
        {
          "output_type": "stream",
          "name": "stdout",
          "text": [
            "Showing Feature 1, from class : B\n",
            "Showing Feature 2 , from class : C\n"
          ]
        }
      ]
    },
    {
      "cell_type": "markdown",
      "source": [
        "### Example 3 :  Multiple Inheritance"
      ],
      "metadata": {
        "id": "QoWuvcb8tzD9"
      }
    },
    {
      "cell_type": "code",
      "source": [
        "class A:\n",
        "\n",
        "  def feature1(self):\n",
        "    print(f\"Showing Feature 1, from class : {self.__class__.__name__}\")\n",
        "\n",
        "  def feature2(self):\n",
        "    print(f\"Showing Feature 2 , from class : {self.__class__.__name__}\")\n",
        "  \n",
        "\n",
        "class B:\n",
        "\n",
        "  def feature3(self):\n",
        "    print(f\"Showing Feature 3, from class : {self.__class__.__name__}\")\n",
        "\n",
        "  def feature4(self):\n",
        "    print(f\"Showing Feature 4, from class : {self.__class__.__name__}\")\n",
        "\n",
        "\n",
        "class C(A,B):\n",
        "\n",
        "  def feature5(self):\n",
        "    print(f\"Showing Feature 5, from class : {self.__class__.__name__}\")\n",
        "\n",
        "  def feature6(self):\n",
        "    print(f\"Showing Feature 6, from class : {self.__class__.__name__}\")\n",
        "\n",
        "\n",
        "\n",
        "obj3 = C()\n",
        "obj3.feature2()\n",
        "obj3.feature4()"
      ],
      "metadata": {
        "colab": {
          "base_uri": "https://localhost:8080/"
        },
        "id": "l27Lcpy-sfUo",
        "outputId": "cc90d553-12a1-4489-eb20-f7441502625e"
      },
      "execution_count": null,
      "outputs": [
        {
          "output_type": "stream",
          "name": "stdout",
          "text": [
            "Showing Feature 2 , from class : C\n",
            "Showing Feature 4, from class : C\n"
          ]
        }
      ]
    },
    {
      "cell_type": "markdown",
      "source": [
        "### Example 4 :  Single Level Inheritance"
      ],
      "metadata": {
        "id": "dwFLLH0ut5QS"
      }
    },
    {
      "cell_type": "code",
      "source": [
        "class A:\n",
        "\n",
        "  def feature1(self):\n",
        "    print(f\"Showing Feature 1, from class : {self.__class__.__name__}\")\n",
        "\n",
        "  def feature2(self):\n",
        "    print(f\"Showing Feature 2 , from class : {self.__class__.__name__}\")\n",
        "  \n",
        "\n",
        "class B(A):\n",
        "\n",
        "  def feature3(self):\n",
        "    print(f\"Showing Feature 3, from class : {self.__class__.__name__}\")\n",
        "\n",
        "  def feature4(self):\n",
        "    print(f\"Showing Feature 4, from class : {self.__class__.__name__}\")\n",
        "\n",
        "\n",
        "obj2 = B()\n",
        "obj2.feature1()\n"
      ],
      "metadata": {
        "colab": {
          "base_uri": "https://localhost:8080/"
        },
        "id": "Ywh5xDjNt4sY",
        "outputId": "77d1b1ab-5d01-48c5-b476-49120d9b25e3"
      },
      "execution_count": null,
      "outputs": [
        {
          "output_type": "stream",
          "name": "stdout",
          "text": [
            "Showing Feature 1, from class : B\n"
          ]
        }
      ]
    },
    {
      "cell_type": "markdown",
      "source": [
        "## Method Resolution Order\n",
        "\n",
        "\n",
        "In the above example we use multiple inheritances and it is also called Diamond inheritance or Deadly Diamond of Death and it looks as follows:\n",
        "\n",
        "\n",
        "![220px-diamond_inheritance-svg.png](data:image/png;base64,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)\n",
        "\n",
        "Python follows a depth-first lookup order and hence ends up calling the method from class A. By following the method resolution order, the lookup order as follows.\n",
        "Class D -> Class B -> Class C -> Class A\n",
        "Python follows depth-first order to resolve the methods and attributes. So in the above example, it executes the method in class B."
      ],
      "metadata": {
        "id": "sW1r339hxn8m"
      }
    },
    {
      "cell_type": "code",
      "source": [
        "class A:\n",
        "    def rk(self):\n",
        "        print(\" In class A\")\n",
        "class B(A):\n",
        "    def rk(self):\n",
        "        print(\" In class B\")\n",
        "class C(A):\n",
        "    def rk(self):\n",
        "        print(\"In class C\")\n",
        "  \n",
        "# classes ordering\n",
        "class D(B, C):\n",
        "\n",
        "  pass\n",
        "    \n",
        "     \n",
        "r = D()\n",
        "r.rk()\n",
        "\n"
      ],
      "metadata": {
        "colab": {
          "base_uri": "https://localhost:8080/"
        },
        "id": "_Bhq7w2KufCV",
        "outputId": "c6ab1a66-e6fe-4fa3-b812-0daba9dde877"
      },
      "execution_count": null,
      "outputs": [
        {
          "output_type": "stream",
          "name": "stdout",
          "text": [
            " In class B\n"
          ]
        }
      ]
    },
    {
      "cell_type": "markdown",
      "source": [
        "## Polymorphism"
      ],
      "metadata": {
        "id": "csT7fMoTH0w9"
      }
    },
    {
      "cell_type": "markdown",
      "source": [
        "It is the concept of a code taking different forms."
      ],
      "metadata": {
        "id": "ijIj8ukTWNHa"
      }
    },
    {
      "cell_type": "code",
      "source": [
        ""
      ],
      "metadata": {
        "id": "jzSQ2LKcxite"
      },
      "execution_count": null,
      "outputs": []
    },
    {
      "cell_type": "markdown",
      "source": [
        "### Operator Overloading"
      ],
      "metadata": {
        "id": "GwNQ4ZxjNDF7"
      }
    },
    {
      "cell_type": "code",
      "source": [
        "print(int.__add__(1,2)) # This is how add function is performed internally"
      ],
      "metadata": {
        "colab": {
          "base_uri": "https://localhost:8080/"
        },
        "id": "hhj39thpNCv4",
        "outputId": "b0c9251b-875a-4a1c-b3d1-a42f335c0c47"
      },
      "execution_count": null,
      "outputs": [
        {
          "output_type": "stream",
          "name": "stdout",
          "text": [
            "3\n"
          ]
        }
      ]
    },
    {
      "cell_type": "markdown",
      "source": [
        "Redefining the add method inside the Student class"
      ],
      "metadata": {
        "id": "qxqqtHX4Vqcf"
      }
    },
    {
      "cell_type": "code",
      "source": [
        "class Student:\n",
        "\n",
        "  def __init__(self,m1,m2):\n",
        "    self.m1=m1\n",
        "    self.m2=m2\n",
        "\n",
        "  def __add__(self,n2):\n",
        "    m1=self.m1+n2.m1\n",
        "    m2=self.m2+n2.m2\n",
        "\n",
        "    s3=Student(m1,m2)\n",
        "\n",
        "    return s3\n",
        "\n",
        "\n",
        "s1= Student(10,20)\n",
        "s2= Student(30,40)\n",
        "\n",
        "s3= s1+s2 # student.__add__(s1,s2)\n",
        "\n",
        "print(s3.m1)\n",
        "print(s3.m2)\n",
        "               \n",
        "      "
      ],
      "metadata": {
        "colab": {
          "base_uri": "https://localhost:8080/"
        },
        "id": "fz1Av4dsUn70",
        "outputId": "3ebce8b8-c5d6-47e4-b81c-cab00a0802e2"
      },
      "execution_count": null,
      "outputs": [
        {
          "output_type": "stream",
          "name": "stdout",
          "text": [
            "40\n",
            "60\n"
          ]
        }
      ]
    },
    {
      "cell_type": "markdown",
      "source": [
        "### Method Overloading"
      ],
      "metadata": {
        "id": "F37tG5HCM1So"
      }
    },
    {
      "cell_type": "markdown",
      "source": [
        "Method overloading is not supported in python !!"
      ],
      "metadata": {
        "id": "QWIAYZptYqk5"
      }
    },
    {
      "cell_type": "code",
      "source": [
        ""
      ],
      "metadata": {
        "id": "02x_JKjDIAKW"
      },
      "execution_count": null,
      "outputs": []
    },
    {
      "cell_type": "markdown",
      "source": [
        "### Method Overriding"
      ],
      "metadata": {
        "id": "Ps8baBvBM6_2"
      }
    },
    {
      "cell_type": "code",
      "source": [
        "class A:\n",
        "  def show(self):\n",
        "    print(\"Showing from A\")\n",
        "\n",
        "class B(A):\n",
        "  pass\n",
        "\n",
        "obj = B()\n",
        "obj.show()\n",
        "\n",
        "\n",
        "\n",
        "\n",
        "  "
      ],
      "metadata": {
        "colab": {
          "base_uri": "https://localhost:8080/"
        },
        "id": "tKE8nL9NM6xg",
        "outputId": "ad61c78d-10f1-49b7-962e-a8b959158fca"
      },
      "execution_count": null,
      "outputs": [
        {
          "output_type": "stream",
          "name": "stdout",
          "text": [
            "Showing from A\n"
          ]
        }
      ]
    },
    {
      "cell_type": "code",
      "source": [
        "class A:\n",
        "  def show(self):\n",
        "    print(\"Showing from A\")\n",
        "\n",
        "class B(A):\n",
        "\n",
        "  def show(self):\n",
        "    print(\"Showing from B\")\n",
        "  \n",
        "\n",
        "obj = B()\n",
        "obj.show()\n"
      ],
      "metadata": {
        "colab": {
          "base_uri": "https://localhost:8080/"
        },
        "id": "sMWJgZdIM6u9",
        "outputId": "76edd064-2fc4-47e1-acfd-6cd95508f8b4"
      },
      "execution_count": null,
      "outputs": [
        {
          "output_type": "stream",
          "name": "stdout",
          "text": [
            "Showing from B\n"
          ]
        }
      ]
    },
    {
      "cell_type": "markdown",
      "source": [
        "## Encapsulation"
      ],
      "metadata": {
        "id": "-J6CR2rHIAjA"
      }
    },
    {
      "cell_type": "markdown",
      "source": [
        "In object-oriented programming (OOP), encapsulation refers to the bundling of data with the methods that operate on that data, or the restricting of direct access to some of an object's components. Encapsulation is used to hide the values or state of a structured data object inside a class, preventing direct access to them by clients in a way that could expose hidden implementation details or violate state invariance maintained by the methods."
      ],
      "metadata": {
        "id": "RN500MRCIUel"
      }
    },
    {
      "cell_type": "markdown",
      "source": [
        "## Using Double Underscores\n",
        "\n",
        "Reference : https://www.askpython.com/python/oops/encapsulation-in-python#:~:text=What%20is%20the%20need%20for%20Encapsulation%20in%20Python,through%20a%20proper%20code%20organization.%20More%20items...%20\n",
        "\n",
        "If you want to make class members i.e. methods and variables private, then you should prefix them with double underscores. But Python offers some sort of support to the private modifier. This mechanism is called Name mangling. With this, it is still possible to access the class members from outside it."
      ],
      "metadata": {
        "id": "gT-lwK9LJpoO"
      }
    },
    {
      "cell_type": "markdown",
      "source": [
        "## Name Mangling\n",
        "![Screenshot 2022-01-16 192147.png](data:image/png;base64,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)"
      ],
      "metadata": {
        "id": "PnJLqts_Jw2w"
      }
    },
    {
      "cell_type": "code",
      "source": [
        "class A:\n",
        "  def __init__(self):\n",
        "\n",
        "    self.__tech=\"Private Variable in Python\"\n",
        "\n",
        "\n",
        "obj= A()\n",
        "obj._A__tech \n",
        "\n",
        "# Name Mangling, Accessing a private variable outside the class ( _classname__classvariable)\n",
        "# This is exact application of encapsulation\n",
        "\n",
        "\n",
        "  \n",
        "\n",
        "  "
      ],
      "metadata": {
        "colab": {
          "base_uri": "https://localhost:8080/",
          "height": 35
        },
        "id": "4EjeQnYGICp_",
        "outputId": "e4d6c32d-de41-4ce8-863a-69d069dcfcee"
      },
      "execution_count": null,
      "outputs": [
        {
          "output_type": "execute_result",
          "data": {
            "application/vnd.google.colaboratory.intrinsic+json": {
              "type": "string"
            },
            "text/plain": [
              "'Private Variable in Python'"
            ]
          },
          "metadata": {},
          "execution_count": 7
        }
      ]
    },
    {
      "cell_type": "markdown",
      "source": [
        "## Using the get and set method\n",
        "\n",
        "Using Getter and Setter methods to access private variables\n",
        "If you want to access and change the private variables, accessor (getter) methods and mutators(setter methods) should be used, as they are part of Class."
      ],
      "metadata": {
        "id": "3my04vRHLkWQ"
      }
    },
    {
      "cell_type": "code",
      "source": [
        "class Person:\n",
        "    def __init__(self, name, age=0):\n",
        "        self.name = name\n",
        "        self.__age = age\n",
        " \n",
        "    def display(self):\n",
        "        print(self.name)\n",
        "        print(self.__age)\n",
        " \n",
        "    def getAge(self):\n",
        "        print(self.__age)\n",
        " \n",
        "    def setAge(self, age):\n",
        "        self.__age = age\n",
        " \n",
        "person = Person('Dev', 30)\n",
        "#accessing using class method\n",
        "person.display()\n",
        "#changing age using setter\n",
        "person.setAge(35)\n",
        "person.getAge()\n",
        "\n",
        "\n",
        "\n"
      ],
      "metadata": {
        "colab": {
          "base_uri": "https://localhost:8080/"
        },
        "id": "oMiE-5eXJV31",
        "outputId": "e8a982bf-4d48-4abb-a30e-00ced88801c0"
      },
      "execution_count": null,
      "outputs": [
        {
          "output_type": "stream",
          "name": "stdout",
          "text": [
            "Dev\n",
            "30\n",
            "35\n"
          ]
        }
      ]
    },
    {
      "cell_type": "markdown",
      "source": [
        "## Abstraction "
      ],
      "metadata": {
        "id": "IFTww9cKZpE6"
      }
    },
    {
      "cell_type": "markdown",
      "source": [
        "Reference : https://www.youtube.com/watch?v=UDmJGvM-OUw&list=PLsyeobzWxl7poL9JTVyndKe62ieoN-MZ3&index=65"
      ],
      "metadata": {
        "id": "CXTJLYBXdqUN"
      }
    },
    {
      "cell_type": "code",
      "source": [
        ""
      ],
      "metadata": {
        "id": "eUUIwLvuMu_T"
      },
      "execution_count": null,
      "outputs": []
    }
  ]
}